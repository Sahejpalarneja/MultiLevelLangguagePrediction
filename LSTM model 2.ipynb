{
 "cells": [
  {
   "cell_type": "code",
   "execution_count": 1,
   "id": "1bea514f",
   "metadata": {},
   "outputs": [],
   "source": [
    "import numpy as np\n",
    "\n",
    "import heapq\n",
    "import string\n",
    "from nltk.tokenize import RegexpTokenizer \n",
    "import matplotlib.pyplot as plt\n",
    "\n",
    "from tensorflow.keras.preprocessing.text import Tokenizer\n",
    "\n",
    "from keras.models import Sequential, load_model\n",
    "\n",
    "from keras.layers.core import Dense, Activation\n",
    "from keras.layers import Embedding\n",
    "from keras.layers import LSTM,Bidirectional\n",
    "\n",
    "import pickle\n",
    "\n",
    "from tensorflow.keras.optimizers import Adam\n",
    "from spacy.tokenizer import Tokenizer\n",
    "from spacy.lang.en import English\n",
    "from keras.layers import TimeDistributed\n",
    "nlp = English()"
   ]
  },
  {
   "cell_type": "code",
   "execution_count": 2,
   "id": "e3300809",
   "metadata": {},
   "outputs": [],
   "source": [
    "def create_wordlist(doc):\n",
    "    wl = []\n",
    "    for word in doc:\n",
    "        if word.text not in (\"\\n\",\"\\n\\n\",'\\u2009','\\xa0'):\n",
    "            wl.append(word.text.lower())\n",
    "    return wl"
   ]
  },
  {
   "cell_type": "code",
   "execution_count": 3,
   "id": "ecebb5e6",
   "metadata": {},
   "outputs": [],
   "source": [
    "path = 'data/data.txt'\n",
    "text = open(path, encoding = 'utf8').read().lower()\n",
    "doc = nlp(text)\n"
   ]
  },
  {
   "cell_type": "code",
   "execution_count": 4,
   "id": "ae69963d",
   "metadata": {},
   "outputs": [],
   "source": [
    "path2 = 'data/data2.txt'\n",
    "text2 = open(path,encoding = 'utf-8').read().lower()\n",
    "doc2 = nlp(text2)"
   ]
  },
  {
   "cell_type": "code",
   "execution_count": 5,
   "id": "378883cc",
   "metadata": {},
   "outputs": [],
   "source": [
    "words = create_wordlist(doc)\n",
    "punc = '''!()-[]{};:'\"\\,<>./?@#$%^&*_~'''\n",
    "for ele in words:\n",
    "    if ele in punc:\n",
    "        words.remove(ele)"
   ]
  },
  {
   "cell_type": "code",
   "execution_count": 6,
   "id": "1763411b",
   "metadata": {},
   "outputs": [],
   "source": [
    "words2 = create_wordlist(doc2)\n",
    "for i in words2:\n",
    "    if i in punc:\n",
    "        words2.remove(i)"
   ]
  },
  {
   "cell_type": "code",
   "execution_count": 7,
   "id": "cfe8044e",
   "metadata": {},
   "outputs": [],
   "source": [
    "words = words+words2"
   ]
  },
  {
   "cell_type": "code",
   "execution_count": 8,
   "id": "669a7bc6",
   "metadata": {},
   "outputs": [],
   "source": [
    "unique_words = np.unique(words)\n",
    "unique_word_index = dict((c, i) for i, c in enumerate(unique_words))\n"
   ]
  },
  {
   "cell_type": "code",
   "execution_count": 9,
   "id": "41e13d54",
   "metadata": {},
   "outputs": [
    {
     "data": {
      "text/plain": [
       "2577"
      ]
     },
     "execution_count": 9,
     "metadata": {},
     "output_type": "execute_result"
    }
   ],
   "source": [
    "len(unique_word_index)"
   ]
  },
  {
   "cell_type": "code",
   "execution_count": 10,
   "id": "5a73115a",
   "metadata": {},
   "outputs": [],
   "source": [
    "from gensim.test.utils import datapath, get_tmpfile\n",
    "\n",
    "from gensim.models import KeyedVectors\n",
    "\n",
    "from gensim.scripts.glove2word2vec import glove2word2vec"
   ]
  },
  {
   "cell_type": "code",
   "execution_count": 11,
   "id": "93df6f37",
   "metadata": {},
   "outputs": [],
   "source": [
    "word2vec = KeyedVectors.load_word2vec_format('data/glove.6B.300d.txt',binary = False,no_header = True)"
   ]
  },
  {
   "cell_type": "code",
   "execution_count": 12,
   "id": "f0e8a084",
   "metadata": {},
   "outputs": [],
   "source": [
    "EMBEDDING_SIZE = 300\n",
    "VOCAB_SIZE = len(unique_word_index)+1\n",
    "embedding_weights = np.zeros((VOCAB_SIZE,EMBEDDING_SIZE))\n",
    "for word,index in unique_word_index.items():\n",
    "    try:\n",
    "        embedding_weights[index, :] = word2vec[word]\n",
    "    except KeyError:\n",
    "        pass"
   ]
  },
  {
   "cell_type": "code",
   "execution_count": 13,
   "id": "31ee57be",
   "metadata": {},
   "outputs": [
    {
     "data": {
      "text/plain": [
       "(2578, 300)"
      ]
     },
     "execution_count": 13,
     "metadata": {},
     "output_type": "execute_result"
    }
   ],
   "source": [
    "embedding_weights.shape"
   ]
  },
  {
   "cell_type": "code",
   "execution_count": 14,
   "id": "d190fbcc",
   "metadata": {},
   "outputs": [
    {
     "name": "stdout",
     "output_type": "stream",
     "text": [
      "['\\ufeff', '\\n\\n\\n\\n', 'one', 'morning', 'when']\n",
      "gregor\n"
     ]
    }
   ],
   "source": [
    "LENGTH_WORD = 5\n",
    "next_words = []\n",
    "prev_words = []\n",
    "for j in range(len(words) - LENGTH_WORD):\n",
    "     prev_words.append(words[j:j + LENGTH_WORD])\n",
    "     next_words.append(words[j + LENGTH_WORD])\n",
    "print(prev_words[0])\n",
    "print(next_words[0])"
   ]
  },
  {
   "cell_type": "code",
   "execution_count": 18,
   "id": "58dc27a4",
   "metadata": {},
   "outputs": [],
   "source": [
    "X = np.zeros((len(prev_words),LENGTH_WORD,len(unique_words)), dtype=bool)\n",
    "Y = np.zeros((len(next_words), len(unique_words)), dtype=bool)\n",
    "for i, each_words in enumerate(prev_words):\n",
    "       for j, each_word in enumerate(each_words):\n",
    "            X[i,j , unique_word_index[each_word]] = 1\n",
    "       Y[i, unique_word_index[next_words[i]]] = 1"
   ]
  },
  {
   "cell_type": "code",
   "execution_count": null,
   "id": "8999200d",
   "metadata": {},
   "outputs": [],
   "source": [
    "class attention(Layer):\n",
    "    def __init__(self,**kwargs):\n",
    "        super(attention,self).__init__(**kwargs)\n",
    "    def build(self,input_shape):\n",
    "        self.W-self.add_weight(name = 'attention_weight',shape([input_shape]))"
   ]
  },
  {
   "cell_type": "code",
   "execution_count": null,
   "id": "5944ac36",
   "metadata": {},
   "outputs": [],
   "source": [
    "import torch\n",
    "import torch.nn as nn\n",
    "import torch.optim as optim"
   ]
  },
  {
   "cell_type": "code",
   "execution_count": null,
   "id": "e6431c0c",
   "metadata": {},
   "outputs": [],
   "source": [
    "class LSTMmodel(nn.Module):\n",
    "    def __init__(self,input_size,embedding_size,hidden_size,  output_size):\n",
    "        self.embedding = nn.Embedding(input_size,embedding_size)\n",
    "        self.lstm = nn.LSTM(\n",
    "            input_size = embedding_size,\n",
    "            hidden_size = hidden_size,\n",
    "            num_layers = 2,\n",
    "            bidirectional = True,\n",
    "            batch_first = True\n",
    "        )\n",
    "        self.dense = nn.Linear(hidden_size*2,output_size)\n",
    "    def forward(self,sequences,sequence_lens):\n",
    "        embedd = self.embedding(sequences)\n",
    "        \n",
    "        packed = nn.utils.rnn.pa_padded_sequences(\n",
    "            embedded,\n",
    "            sequence_lens,\n",
    "            enforce_sorted = False,\n",
    "            batch_first = True\n",
    "        )  \n",
    "        packed_outputs,(h,c) = self.lstm(packed)\n",
    "        lsm_outputs,lens = nn.utils."
   ]
  },
  {
   "cell_type": "code",
   "execution_count": 19,
   "id": "c13e0ca2",
   "metadata": {},
   "outputs": [],
   "source": [
    "model = Sequential()\n",
    "model.add(LSTM(128,input_shape = (LENGTH_WORD,len(unique_words))))\n",
    "model.add(Dense(len(unique_words)))\n",
    "model.add(Activation('softmax'))"
   ]
  },
  {
   "cell_type": "code",
   "execution_count": 110,
   "id": "9c0bce66",
   "metadata": {},
   "outputs": [],
   "source": [
    "model = Sequential()\n",
    "model.add(Embedding(input_dim = VOCAB_SIZE,\n",
    "                  output_dim = EMBEDDING_SIZE,\n",
    "                  input_length =5,\n",
    "                  weights = [embedding_weights],\n",
    "                  trainable = True))\n",
    "\n",
    "model.add(Bidirectional(LSTM(64,return_sequences = True),input_shape = (None,3,len(unique_words),EMBEDDING_SIZE)))\n",
    "model.add(TimeDistributed(Dense(len(unique_words),activation = 'softmax')))"
   ]
  },
  {
   "cell_type": "code",
   "execution_count": 20,
   "id": "133c0cd8",
   "metadata": {},
   "outputs": [
    {
     "name": "stdout",
     "output_type": "stream",
     "text": [
      "Model: \"sequential\"\n",
      "_________________________________________________________________\n",
      "Layer (type)                 Output Shape              Param #   \n",
      "=================================================================\n",
      "lstm (LSTM)                  (None, 128)               1385472   \n",
      "_________________________________________________________________\n",
      "dense (Dense)                (None, 2577)              332433    \n",
      "_________________________________________________________________\n",
      "activation (Activation)      (None, 2577)              0         \n",
      "=================================================================\n",
      "Total params: 1,717,905\n",
      "Trainable params: 1,717,905\n",
      "Non-trainable params: 0\n",
      "_________________________________________________________________\n"
     ]
    }
   ],
   "source": [
    "model.summary()"
   ]
  },
  {
   "cell_type": "code",
   "execution_count": 71,
   "id": "0caf1fc5",
   "metadata": {},
   "outputs": [
    {
     "data": {
      "text/plain": [
       "(46375, 5, 2577)"
      ]
     },
     "execution_count": 71,
     "metadata": {},
     "output_type": "execute_result"
    }
   ],
   "source": [
    "X.shape"
   ]
  },
  {
   "cell_type": "code",
   "execution_count": 52,
   "id": "909ef810",
   "metadata": {},
   "outputs": [
    {
     "data": {
      "text/plain": [
       "(46375, 2577)"
      ]
     },
     "execution_count": 52,
     "metadata": {},
     "output_type": "execute_result"
    }
   ],
   "source": [
    "Y.shape"
   ]
  },
  {
   "cell_type": "code",
   "execution_count": 21,
   "id": "8e4dac04",
   "metadata": {},
   "outputs": [
    {
     "name": "stdout",
     "output_type": "stream",
     "text": [
      "Epoch 1/8\n",
      "345/345 [==============================] - 37s 99ms/step - loss: 5.7320 - accuracy: 0.0837 - val_loss: 5.0266 - val_accuracy: 0.1320\n",
      "Epoch 2/8\n",
      "345/345 [==============================] - 31s 89ms/step - loss: 4.2124 - accuracy: 0.2141 - val_loss: 3.8195 - val_accuracy: 0.2561\n",
      "Epoch 3/8\n",
      "345/345 [==============================] - 31s 90ms/step - loss: 2.4435 - accuracy: 0.4763 - val_loss: 2.4142 - val_accuracy: 0.4636\n",
      "Epoch 4/8\n",
      "345/345 [==============================] - 32s 91ms/step - loss: 0.9825 - accuracy: 0.7752 - val_loss: 1.1498 - val_accuracy: 0.7352\n",
      "Epoch 5/8\n",
      "345/345 [==============================] - 31s 89ms/step - loss: 0.3480 - accuracy: 0.9269 - val_loss: 0.4154 - val_accuracy: 0.9086\n",
      "Epoch 6/8\n",
      "345/345 [==============================] - 31s 90ms/step - loss: 0.1262 - accuracy: 0.9786 - val_loss: 0.1321 - val_accuracy: 0.9810\n",
      "Epoch 7/8\n",
      "345/345 [==============================] - 31s 90ms/step - loss: 0.0579 - accuracy: 0.9920 - val_loss: 0.0624 - val_accuracy: 0.9922\n",
      "Epoch 8/8\n",
      "345/345 [==============================] - 31s 89ms/step - loss: 0.0416 - accuracy: 0.9937 - val_loss: 0.0378 - val_accuracy: 0.9953\n"
     ]
    }
   ],
   "source": [
    "optimizer = Adam(learning_rate=0.01)\n",
    "model.compile(loss='categorical_crossentropy', optimizer=optimizer, metrics=['accuracy'])\n",
    "history = model.fit(X, Y, validation_split=0.05, batch_size=128, epochs=8, shuffle=True).history"
   ]
  },
  {
   "cell_type": "code",
   "execution_count": 22,
   "id": "951820f0",
   "metadata": {},
   "outputs": [
    {
     "data": {
      "text/plain": [
       "<matplotlib.legend.Legend at 0x20cef48cd90>"
      ]
     },
     "execution_count": 22,
     "metadata": {},
     "output_type": "execute_result"
    },
    {
     "data": {
      "image/png": "[encoded data removed]",
      "text/plain": [
       "<Figure size 432x288 with 1 Axes>"
      ]
     },
     "metadata": {
      "needs_background": "light"
     },
     "output_type": "display_data"
    }
   ],
   "source": [
    "plt.plot(history['accuracy'])\n",
    "plt.plot(history['val_accuracy'])\n",
    "\n",
    "plt.title('Model accuracy')\n",
    "plt.ylabel('accuracy')\n",
    "plt.xlabel('epoch')\n",
    "plt.legend(['train','test'],loc='upper left')"
   ]
  },
  {
   "cell_type": "code",
   "execution_count": 24,
   "id": "14555236",
   "metadata": {},
   "outputs": [
    {
     "data": {
      "text/plain": [
       "<matplotlib.legend.Legend at 0x20cef4d1220>"
      ]
     },
     "execution_count": 24,
     "metadata": {},
     "output_type": "execute_result"
    },
    {
     "data": {
      "image/png": "[encoded data removed]",
      "text/plain": [
       "<Figure size 432x288 with 1 Axes>"
      ]
     },
     "metadata": {
      "needs_background": "light"
     },
     "output_type": "display_data"
    }
   ],
   "source": [
    "plt.plot(history['loss'])\n",
    "plt.plot(history['val_loss'])\n",
    "plt.title('model loss')\n",
    "plt.ylabel('loss')\n",
    "plt.xlabel('epoch')\n",
    "plt.legend(['train', 'test'], loc='upper left')"
   ]
  },
  {
   "cell_type": "code",
   "execution_count": 25,
   "id": "7a6b4ad3",
   "metadata": {},
   "outputs": [],
   "source": [
    "def prepare_input(text):\n",
    "    x = np.zeros((1,30, len(unique_words)))\n",
    "    for t, char in enumerate(text.split()):\n",
    "        x[0, t,unique_word_index[char]] = 1.\n",
    "    return x"
   ]
  },
  {
   "cell_type": "code",
   "execution_count": 26,
   "id": "dff76c39",
   "metadata": {},
   "outputs": [],
   "source": [
    "def sample(preds, top_n=3):\n",
    "   preds = np.asarray(preds).astype('float64')\n",
    "   preds = np.log(preds)\n",
    "   exp_preds = np.exp(preds)\n",
    "   preds = exp_preds / np.sum(exp_preds)\n",
    "   return heapq.nlargest(top_n, range(len(preds)), preds.take)"
   ]
  },
  {
   "cell_type": "code",
   "execution_count": 28,
   "id": "969ad22f",
   "metadata": {},
   "outputs": [
    {
     "name": "stdout",
     "output_type": "stream",
     "text": [
      "(1, 30, 2577)\n",
      "['sound' 'conversation' 'thought' 'respect' 'surprise' 'one']\n"
     ]
    }
   ],
   "source": [
    "seed = \"Do you have a \"\n",
    "words_number = 1\n",
    "\n",
    "SEQUENCE_LENGTH= 30 \n",
    "\n",
    "generated = ''\n",
    "sentence = []\n",
    "\n",
    "for i in range(SEQUENCE_LENGTH):\n",
    "    sentence.append(\"a\")\n",
    "seed= seed.lower().split()\n",
    "for i in range(len(seed)):\n",
    "    sentence[SEQUENCE_LENGTH-i-1] = seed[len(seed)-i-1]\n",
    "\n",
    "generated += ' '.join(sentence)\n",
    "\n",
    "for i in range(words_number):\n",
    "    x = np.zeros((1,SEQUENCE_LENGTH,len(unique_words)))\n",
    "    print(x.shape)\n",
    "    for t, word in enumerate(sentence):\n",
    "        x[0, t, unique_word_index[word]] = 1.\n",
    "\n",
    "    preds = model.predict(x,verbose=0)[0]\n",
    "    next_index = sample(preds,6)\n",
    "    next_word = unique_words[next_index]\n",
    "    \n",
    "    generated =next_word\n",
    "  \n",
    "    \n",
    "    sentence = sentence[1:]+[next_word]\n",
    "print(generated)"
   ]
  }
 ],
 "metadata": {
  "kernelspec": {
   "display_name": "Python 3 (ipykernel)",
   "language": "python",
   "name": "python3"
  },
  "language_info": {
   "codemirror_mode": {
    "name": "ipython",
    "version": 3
   },
   "file_extension": ".py",
   "mimetype": "text/x-python",
   "name": "python",
   "nbconvert_exporter": "python",
   "pygments_lexer": "ipython3",
   "version": "3.9.6"
  }
 },
 "nbformat": 4,
 "nbformat_minor": 5
}
